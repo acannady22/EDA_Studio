{
 "cells": [
  {
   "cell_type": "code",
   "execution_count": 23,
   "id": "0bd56e5e",
   "metadata": {
    "scrolled": false
   },
   "outputs": [
    {
     "name": "stdout",
     "output_type": "stream",
     "text": [
      "Requirement already satisfied: pandas in ./opt/anaconda3/lib/python3.9/site-packages (1.4.2)\n",
      "Requirement already satisfied: python-dateutil>=2.8.1 in ./opt/anaconda3/lib/python3.9/site-packages (from pandas) (2.8.2)\n",
      "Requirement already satisfied: pytz>=2020.1 in ./opt/anaconda3/lib/python3.9/site-packages (from pandas) (2021.3)\n",
      "Requirement already satisfied: numpy>=1.18.5 in ./opt/anaconda3/lib/python3.9/site-packages (from pandas) (1.21.5)\n",
      "Requirement already satisfied: six>=1.5 in ./opt/anaconda3/lib/python3.9/site-packages (from python-dateutil>=2.8.1->pandas) (1.16.0)\n"
     ]
    }
   ],
   "source": [
    "# import pandas\n",
    "!pip install pandas\n",
    "import pandas as pd\n",
    "import seaborn as sns\n",
    "import matplotlib.pyplot as plt\n"
   ]
  },
  {
   "cell_type": "code",
   "execution_count": 24,
   "id": "07c3b20e",
   "metadata": {
    "scrolled": false
   },
   "outputs": [],
   "source": [
    "# create your data variabe using .read_csv \n",
    "data = pd.read_csv('/Users/allisoncannady/Documents/IMDB-Movie-Data .csv')\n"
   ]
  },
  {
   "cell_type": "code",
   "execution_count": 30,
   "id": "059131d8",
   "metadata": {
    "scrolled": true
   },
   "outputs": [
    {
     "ename": "KeyError",
     "evalue": "'Title'",
     "output_type": "error",
     "traceback": [
      "\u001b[0;31m---------------------------------------------------------------------------\u001b[0m",
      "\u001b[0;31mKeyError\u001b[0m                                  Traceback (most recent call last)",
      "Input \u001b[0;32mIn [30]\u001b[0m, in \u001b[0;36m<cell line: 1>\u001b[0;34m()\u001b[0m\n\u001b[0;32m----> 1\u001b[0m data_indexed \u001b[38;5;241m=\u001b[39m \u001b[43mpd\u001b[49m\u001b[38;5;241;43m.\u001b[39;49m\u001b[43mread_csv\u001b[49m\u001b[43m(\u001b[49m\u001b[38;5;124;43m'\u001b[39;49m\u001b[38;5;124;43m/Users/allisoncannady/Documents/IMDB-Movie-Data .csv\u001b[39;49m\u001b[38;5;124;43m'\u001b[39;49m\u001b[43m,\u001b[49m\u001b[43m \u001b[49m\u001b[43mindex_col\u001b[49m\u001b[38;5;241;43m=\u001b[39;49m\u001b[38;5;124;43m\"\u001b[39;49m\u001b[38;5;124;43mTitle\u001b[39;49m\u001b[38;5;124;43m\"\u001b[39;49m\u001b[43m)\u001b[49m\n",
      "File \u001b[0;32m~/opt/anaconda3/lib/python3.9/site-packages/pandas/util/_decorators.py:311\u001b[0m, in \u001b[0;36mdeprecate_nonkeyword_arguments.<locals>.decorate.<locals>.wrapper\u001b[0;34m(*args, **kwargs)\u001b[0m\n\u001b[1;32m    305\u001b[0m \u001b[38;5;28;01mif\u001b[39;00m \u001b[38;5;28mlen\u001b[39m(args) \u001b[38;5;241m>\u001b[39m num_allow_args:\n\u001b[1;32m    306\u001b[0m     warnings\u001b[38;5;241m.\u001b[39mwarn(\n\u001b[1;32m    307\u001b[0m         msg\u001b[38;5;241m.\u001b[39mformat(arguments\u001b[38;5;241m=\u001b[39marguments),\n\u001b[1;32m    308\u001b[0m         \u001b[38;5;167;01mFutureWarning\u001b[39;00m,\n\u001b[1;32m    309\u001b[0m         stacklevel\u001b[38;5;241m=\u001b[39mstacklevel,\n\u001b[1;32m    310\u001b[0m     )\n\u001b[0;32m--> 311\u001b[0m \u001b[38;5;28;01mreturn\u001b[39;00m \u001b[43mfunc\u001b[49m\u001b[43m(\u001b[49m\u001b[38;5;241;43m*\u001b[39;49m\u001b[43margs\u001b[49m\u001b[43m,\u001b[49m\u001b[43m \u001b[49m\u001b[38;5;241;43m*\u001b[39;49m\u001b[38;5;241;43m*\u001b[39;49m\u001b[43mkwargs\u001b[49m\u001b[43m)\u001b[49m\n",
      "File \u001b[0;32m~/opt/anaconda3/lib/python3.9/site-packages/pandas/io/parsers/readers.py:680\u001b[0m, in \u001b[0;36mread_csv\u001b[0;34m(filepath_or_buffer, sep, delimiter, header, names, index_col, usecols, squeeze, prefix, mangle_dupe_cols, dtype, engine, converters, true_values, false_values, skipinitialspace, skiprows, skipfooter, nrows, na_values, keep_default_na, na_filter, verbose, skip_blank_lines, parse_dates, infer_datetime_format, keep_date_col, date_parser, dayfirst, cache_dates, iterator, chunksize, compression, thousands, decimal, lineterminator, quotechar, quoting, doublequote, escapechar, comment, encoding, encoding_errors, dialect, error_bad_lines, warn_bad_lines, on_bad_lines, delim_whitespace, low_memory, memory_map, float_precision, storage_options)\u001b[0m\n\u001b[1;32m    665\u001b[0m kwds_defaults \u001b[38;5;241m=\u001b[39m _refine_defaults_read(\n\u001b[1;32m    666\u001b[0m     dialect,\n\u001b[1;32m    667\u001b[0m     delimiter,\n\u001b[0;32m   (...)\u001b[0m\n\u001b[1;32m    676\u001b[0m     defaults\u001b[38;5;241m=\u001b[39m{\u001b[38;5;124m\"\u001b[39m\u001b[38;5;124mdelimiter\u001b[39m\u001b[38;5;124m\"\u001b[39m: \u001b[38;5;124m\"\u001b[39m\u001b[38;5;124m,\u001b[39m\u001b[38;5;124m\"\u001b[39m},\n\u001b[1;32m    677\u001b[0m )\n\u001b[1;32m    678\u001b[0m kwds\u001b[38;5;241m.\u001b[39mupdate(kwds_defaults)\n\u001b[0;32m--> 680\u001b[0m \u001b[38;5;28;01mreturn\u001b[39;00m \u001b[43m_read\u001b[49m\u001b[43m(\u001b[49m\u001b[43mfilepath_or_buffer\u001b[49m\u001b[43m,\u001b[49m\u001b[43m \u001b[49m\u001b[43mkwds\u001b[49m\u001b[43m)\u001b[49m\n",
      "File \u001b[0;32m~/opt/anaconda3/lib/python3.9/site-packages/pandas/io/parsers/readers.py:581\u001b[0m, in \u001b[0;36m_read\u001b[0;34m(filepath_or_buffer, kwds)\u001b[0m\n\u001b[1;32m    578\u001b[0m     \u001b[38;5;28;01mreturn\u001b[39;00m parser\n\u001b[1;32m    580\u001b[0m \u001b[38;5;28;01mwith\u001b[39;00m parser:\n\u001b[0;32m--> 581\u001b[0m     \u001b[38;5;28;01mreturn\u001b[39;00m \u001b[43mparser\u001b[49m\u001b[38;5;241;43m.\u001b[39;49m\u001b[43mread\u001b[49m\u001b[43m(\u001b[49m\u001b[43mnrows\u001b[49m\u001b[43m)\u001b[49m\n",
      "File \u001b[0;32m~/opt/anaconda3/lib/python3.9/site-packages/pandas/io/parsers/readers.py:1254\u001b[0m, in \u001b[0;36mTextFileReader.read\u001b[0;34m(self, nrows)\u001b[0m\n\u001b[1;32m   1252\u001b[0m nrows \u001b[38;5;241m=\u001b[39m validate_integer(\u001b[38;5;124m\"\u001b[39m\u001b[38;5;124mnrows\u001b[39m\u001b[38;5;124m\"\u001b[39m, nrows)\n\u001b[1;32m   1253\u001b[0m \u001b[38;5;28;01mtry\u001b[39;00m:\n\u001b[0;32m-> 1254\u001b[0m     index, columns, col_dict \u001b[38;5;241m=\u001b[39m \u001b[38;5;28;43mself\u001b[39;49m\u001b[38;5;241;43m.\u001b[39;49m\u001b[43m_engine\u001b[49m\u001b[38;5;241;43m.\u001b[39;49m\u001b[43mread\u001b[49m\u001b[43m(\u001b[49m\u001b[43mnrows\u001b[49m\u001b[43m)\u001b[49m\n\u001b[1;32m   1255\u001b[0m \u001b[38;5;28;01mexcept\u001b[39;00m \u001b[38;5;167;01mException\u001b[39;00m:\n\u001b[1;32m   1256\u001b[0m     \u001b[38;5;28mself\u001b[39m\u001b[38;5;241m.\u001b[39mclose()\n",
      "File \u001b[0;32m~/opt/anaconda3/lib/python3.9/site-packages/pandas/io/parsers/c_parser_wrapper.py:271\u001b[0m, in \u001b[0;36mCParserWrapper.read\u001b[0;34m(self, nrows)\u001b[0m\n\u001b[1;32m    269\u001b[0m     values \u001b[38;5;241m=\u001b[39m data\u001b[38;5;241m.\u001b[39mpop(i)\n\u001b[1;32m    270\u001b[0m \u001b[38;5;28;01melse\u001b[39;00m:\n\u001b[0;32m--> 271\u001b[0m     values \u001b[38;5;241m=\u001b[39m \u001b[43mdata\u001b[49m\u001b[38;5;241;43m.\u001b[39;49m\u001b[43mpop\u001b[49m\u001b[43m(\u001b[49m\u001b[38;5;28;43mself\u001b[39;49m\u001b[38;5;241;43m.\u001b[39;49m\u001b[43mindex_col\u001b[49m\u001b[43m[\u001b[49m\u001b[43mi\u001b[49m\u001b[43m]\u001b[49m\u001b[43m)\u001b[49m\n\u001b[1;32m    273\u001b[0m values \u001b[38;5;241m=\u001b[39m \u001b[38;5;28mself\u001b[39m\u001b[38;5;241m.\u001b[39m_maybe_parse_dates(values, i, try_parse_dates\u001b[38;5;241m=\u001b[39m\u001b[38;5;28;01mTrue\u001b[39;00m)\n\u001b[1;32m    274\u001b[0m arrays\u001b[38;5;241m.\u001b[39mappend(values)\n",
      "\u001b[0;31mKeyError\u001b[0m: 'Title'"
     ]
    }
   ],
   "source": [
    "#data_indexed = pd.read_csv('/Users/allisoncannady/Documents/IMDB-Movie-Data .csv', index_col=\"Title\")\n",
    "#print(data_indexed)"
   ]
  },
  {
   "cell_type": "code",
   "execution_count": 31,
   "id": "ce1497c2",
   "metadata": {},
   "outputs": [
    {
     "name": "stdout",
     "output_type": "stream",
     "text": [
      "<class 'pandas.core.frame.DataFrame'>\n",
      "MultiIndex: 1001 entries, ('Rank', 'Title', 'Genre', 'Description', 'Director', 'Actors', 'Year', 'Runtime (Minutes)', 'Rating', 'Votes', 'Revenue (Millions)') to ('1000', 'Nine Lives', 'Comedy,Family,Fantasy', \"A stuffy businessman finds himself trapped inside the body of his family's cat.\", 'Barry Sonnenfeld', 'Kevin Spacey, Jennifer Garner, Robbie Amell,Cheryl Hines', '2016', '87', '5.3', '12435', '19.64')\n",
      "Data columns (total 1 columns):\n",
      " #   Column           Non-Null Count  Dtype \n",
      "---  ------           --------------  ----- \n",
      " 0   IMDB-Movie-Data  937 non-null    object\n",
      "dtypes: object(1)\n",
      "memory usage: 302.3+ KB\n"
     ]
    }
   ],
   "source": [
    "#get basic info about data\n",
    "data.info()\n",
    "#data.shape function tells us the number of columns and rows in the dataset. order is (rows, columns)"
   ]
  },
  {
   "cell_type": "code",
   "execution_count": 33,
   "id": "f03d6523",
   "metadata": {},
   "outputs": [
    {
     "data": {
      "text/html": [
       "<div>\n",
       "<style scoped>\n",
       "    .dataframe tbody tr th:only-of-type {\n",
       "        vertical-align: middle;\n",
       "    }\n",
       "\n",
       "    .dataframe tbody tr th {\n",
       "        vertical-align: top;\n",
       "    }\n",
       "\n",
       "    .dataframe thead th {\n",
       "        text-align: right;\n",
       "    }\n",
       "</style>\n",
       "<table border=\"1\" class=\"dataframe\">\n",
       "  <thead>\n",
       "    <tr style=\"text-align: right;\">\n",
       "      <th></th>\n",
       "      <th></th>\n",
       "      <th></th>\n",
       "      <th></th>\n",
       "      <th></th>\n",
       "      <th></th>\n",
       "      <th></th>\n",
       "      <th></th>\n",
       "      <th></th>\n",
       "      <th></th>\n",
       "      <th></th>\n",
       "      <th>IMDB-Movie-Data</th>\n",
       "    </tr>\n",
       "  </thead>\n",
       "  <tbody>\n",
       "    <tr>\n",
       "      <th>Rank</th>\n",
       "      <th>Title</th>\n",
       "      <th>Genre</th>\n",
       "      <th>Description</th>\n",
       "      <th>Director</th>\n",
       "      <th>Actors</th>\n",
       "      <th>Year</th>\n",
       "      <th>Runtime (Minutes)</th>\n",
       "      <th>Rating</th>\n",
       "      <th>Votes</th>\n",
       "      <th>Revenue (Millions)</th>\n",
       "      <td>Metascore</td>\n",
       "    </tr>\n",
       "    <tr>\n",
       "      <th>1</th>\n",
       "      <th>Guardians of the Galaxy</th>\n",
       "      <th>Action,Adventure,Sci-Fi</th>\n",
       "      <th>A group of intergalactic criminals are forced to work together to stop a fanatical warrior from taking control of the universe.</th>\n",
       "      <th>James Gunn</th>\n",
       "      <th>Chris Pratt, Vin Diesel, Bradley Cooper, Zoe Saldana</th>\n",
       "      <th>2014</th>\n",
       "      <th>121</th>\n",
       "      <th>8.1</th>\n",
       "      <th>757074</th>\n",
       "      <th>333.13</th>\n",
       "      <td>76</td>\n",
       "    </tr>\n",
       "    <tr>\n",
       "      <th>2</th>\n",
       "      <th>Prometheus</th>\n",
       "      <th>Adventure,Mystery,Sci-Fi</th>\n",
       "      <th>Following clues to the origin of mankind, a team finds a structure on a distant moon, but they soon realize they are not alone.</th>\n",
       "      <th>Ridley Scott</th>\n",
       "      <th>Noomi Rapace, Logan Marshall-Green, Michael Fassbender, Charlize Theron</th>\n",
       "      <th>2012</th>\n",
       "      <th>124</th>\n",
       "      <th>7</th>\n",
       "      <th>485820</th>\n",
       "      <th>126.46</th>\n",
       "      <td>65</td>\n",
       "    </tr>\n",
       "    <tr>\n",
       "      <th>3</th>\n",
       "      <th>Split</th>\n",
       "      <th>Horror,Thriller</th>\n",
       "      <th>Three girls are kidnapped by a man with a diagnosed 23 distinct personalities. They must try to escape before the apparent emergence of a frightful new 24th.</th>\n",
       "      <th>M. Night Shyamalan</th>\n",
       "      <th>James McAvoy, Anya Taylor-Joy, Haley Lu Richardson, Jessica Sula</th>\n",
       "      <th>2016</th>\n",
       "      <th>117</th>\n",
       "      <th>7.3</th>\n",
       "      <th>157606</th>\n",
       "      <th>138.12</th>\n",
       "      <td>62</td>\n",
       "    </tr>\n",
       "    <tr>\n",
       "      <th>4</th>\n",
       "      <th>Sing</th>\n",
       "      <th>Animation,Comedy,Family</th>\n",
       "      <th>In a city of humanoid animals, a hustling theater impresario's attempt to save his theater with a singing competition becomes grander than he anticipates even as its finalists' find that their lives will never be the same.</th>\n",
       "      <th>Christophe Lourdelet</th>\n",
       "      <th>Matthew McConaughey,Reese Witherspoon, Seth MacFarlane, Scarlett Johansson</th>\n",
       "      <th>2016</th>\n",
       "      <th>108</th>\n",
       "      <th>7.2</th>\n",
       "      <th>60545</th>\n",
       "      <th>270.32</th>\n",
       "      <td>59</td>\n",
       "    </tr>\n",
       "  </tbody>\n",
       "</table>\n",
       "</div>"
      ],
      "text/plain": [
       "                                                                                                                                                                                                                                         IMDB-Movie-Data\n",
       "Rank Title                   Genre                    Description                                        Director             Actors                                             Year Runtime (Minutes) Rating Votes  Revenue (Millions)       Metascore\n",
       "1    Guardians of the Galaxy Action,Adventure,Sci-Fi  A group of intergalactic criminals are forced t... James Gunn           Chris Pratt, Vin Diesel, Bradley Cooper, Zoe Sa... 2014 121               8.1    757074 333.13                          76\n",
       "2    Prometheus              Adventure,Mystery,Sci-Fi Following clues to the origin of mankind, a tea... Ridley Scott         Noomi Rapace, Logan Marshall-Green, Michael Fas... 2012 124               7      485820 126.46                          65\n",
       "3    Split                   Horror,Thriller          Three girls are kidnapped by a man with a diagn... M. Night Shyamalan   James McAvoy, Anya Taylor-Joy, Haley Lu Richard... 2016 117               7.3    157606 138.12                          62\n",
       "4    Sing                    Animation,Comedy,Family  In a city of humanoid animals, a hustling theat... Christophe Lourdelet Matthew McConaughey,Reese Witherspoon, Seth Mac... 2016 108               7.2    60545  270.32                          59"
      ]
     },
     "execution_count": 33,
     "metadata": {},
     "output_type": "execute_result"
    }
   ],
   "source": [
    "#preview first 5 rows\n",
    "data.head()"
   ]
  },
  {
   "cell_type": "code",
   "execution_count": 34,
   "id": "a5a1ab25",
   "metadata": {},
   "outputs": [
    {
     "data": {
      "text/html": [
       "<div>\n",
       "<style scoped>\n",
       "    .dataframe tbody tr th:only-of-type {\n",
       "        vertical-align: middle;\n",
       "    }\n",
       "\n",
       "    .dataframe tbody tr th {\n",
       "        vertical-align: top;\n",
       "    }\n",
       "\n",
       "    .dataframe thead th {\n",
       "        text-align: right;\n",
       "    }\n",
       "</style>\n",
       "<table border=\"1\" class=\"dataframe\">\n",
       "  <thead>\n",
       "    <tr style=\"text-align: right;\">\n",
       "      <th></th>\n",
       "      <th></th>\n",
       "      <th></th>\n",
       "      <th></th>\n",
       "      <th></th>\n",
       "      <th></th>\n",
       "      <th></th>\n",
       "      <th></th>\n",
       "      <th></th>\n",
       "      <th></th>\n",
       "      <th></th>\n",
       "      <th>IMDB-Movie-Data</th>\n",
       "    </tr>\n",
       "  </thead>\n",
       "  <tbody>\n",
       "    <tr>\n",
       "      <th>996</th>\n",
       "      <th>Secret in Their Eyes</th>\n",
       "      <th>Crime,Drama,Mystery</th>\n",
       "      <th>A tight-knit team of rising investigators, along with their supervisor, is suddenly torn apart when they discover that one of their own teenage daughters has been brutally murdered.</th>\n",
       "      <th>Billy Ray</th>\n",
       "      <th>Chiwetel Ejiofor, Nicole Kidman, Julia Roberts, Dean Norris</th>\n",
       "      <th>2015</th>\n",
       "      <th>111</th>\n",
       "      <th>6.2</th>\n",
       "      <th>27585</th>\n",
       "      <th>NaN</th>\n",
       "      <td>45</td>\n",
       "    </tr>\n",
       "    <tr>\n",
       "      <th>997</th>\n",
       "      <th>Hostel: Part II</th>\n",
       "      <th>Horror</th>\n",
       "      <th>Three American college students studying abroad are lured to a Slovakian hostel, and discover the grim reality behind it.</th>\n",
       "      <th>Eli Roth</th>\n",
       "      <th>Lauren German, Heather Matarazzo, Bijou Phillips, Roger Bart</th>\n",
       "      <th>2007</th>\n",
       "      <th>94</th>\n",
       "      <th>5.5</th>\n",
       "      <th>73152</th>\n",
       "      <th>17.54</th>\n",
       "      <td>46</td>\n",
       "    </tr>\n",
       "    <tr>\n",
       "      <th>998</th>\n",
       "      <th>Step Up 2: The Streets</th>\n",
       "      <th>Drama,Music,Romance</th>\n",
       "      <th>Romantic sparks occur between two dance students from different backgrounds at the Maryland School of the Arts.</th>\n",
       "      <th>Jon M. Chu</th>\n",
       "      <th>Robert Hoffman, Briana Evigan, Cassie Ventura, Adam G. Sevani</th>\n",
       "      <th>2008</th>\n",
       "      <th>98</th>\n",
       "      <th>6.2</th>\n",
       "      <th>70699</th>\n",
       "      <th>58.01</th>\n",
       "      <td>50</td>\n",
       "    </tr>\n",
       "    <tr>\n",
       "      <th>999</th>\n",
       "      <th>Search Party</th>\n",
       "      <th>Adventure,Comedy</th>\n",
       "      <th>A pair of friends embark on a mission to reunite their pal with the woman he was going to marry.</th>\n",
       "      <th>Scot Armstrong</th>\n",
       "      <th>Adam Pally, T.J. Miller, Thomas Middleditch,Shannon Woodward</th>\n",
       "      <th>2014</th>\n",
       "      <th>93</th>\n",
       "      <th>5.6</th>\n",
       "      <th>4881</th>\n",
       "      <th>NaN</th>\n",
       "      <td>22</td>\n",
       "    </tr>\n",
       "    <tr>\n",
       "      <th>1000</th>\n",
       "      <th>Nine Lives</th>\n",
       "      <th>Comedy,Family,Fantasy</th>\n",
       "      <th>A stuffy businessman finds himself trapped inside the body of his family's cat.</th>\n",
       "      <th>Barry Sonnenfeld</th>\n",
       "      <th>Kevin Spacey, Jennifer Garner, Robbie Amell,Cheryl Hines</th>\n",
       "      <th>2016</th>\n",
       "      <th>87</th>\n",
       "      <th>5.3</th>\n",
       "      <th>12435</th>\n",
       "      <th>19.64</th>\n",
       "      <td>11</td>\n",
       "    </tr>\n",
       "  </tbody>\n",
       "</table>\n",
       "</div>"
      ],
      "text/plain": [
       "                                                                                                                                                                                                  IMDB-Movie-Data\n",
       "996  Secret in Their Eyes   Crime,Drama,Mystery   A tight-knit team of rising investigators, alon... Billy Ray        Chiwetel Ejiofor, Nicole Kidman, Julia Roberts,... 2015 111 6.2 27585 NaN                45\n",
       "997  Hostel: Part II        Horror                Three American college students studying abroad... Eli Roth         Lauren German, Heather Matarazzo, Bijou Phillip... 2007 94  5.5 73152 17.54              46\n",
       "998  Step Up 2: The Streets Drama,Music,Romance   Romantic sparks occur between two dance student... Jon M. Chu       Robert Hoffman, Briana Evigan, Cassie Ventura, ... 2008 98  6.2 70699 58.01              50\n",
       "999  Search Party           Adventure,Comedy      A pair of friends embark on a mission to reunit... Scot Armstrong   Adam Pally, T.J. Miller, Thomas Middleditch,Sha... 2014 93  5.6 4881  NaN                22\n",
       "1000 Nine Lives             Comedy,Family,Fantasy A stuffy businessman finds himself trapped insi... Barry Sonnenfeld Kevin Spacey, Jennifer Garner, Robbie Amell,Che... 2016 87  5.3 12435 19.64              11"
      ]
     },
     "execution_count": 34,
     "metadata": {},
     "output_type": "execute_result"
    }
   ],
   "source": [
    "#Preview last 5 rows\n",
    "data.tail()"
   ]
  },
  {
   "cell_type": "code",
   "execution_count": 36,
   "id": "fbeaac7a",
   "metadata": {},
   "outputs": [
    {
     "data": {
      "text/plain": [
       "Index(['IMDB-Movie-Data'], dtype='object')"
      ]
     },
     "execution_count": 36,
     "metadata": {},
     "output_type": "execute_result"
    }
   ],
   "source": [
    "#View column names\n",
    "data.columns\n",
    "#the columns function is supposed to proivide the names of all the columns in the dataset. "
   ]
  },
  {
   "cell_type": "code",
   "execution_count": 38,
   "id": "e59c9c23",
   "metadata": {},
   "outputs": [
    {
     "data": {
      "text/plain": [
       "<bound method NDFrame.describe of                                                                                                                                                                                                                                          IMDB-Movie-Data\n",
       "Rank Title                   Genre                    Description                                        Director             Actors                                             Year Runtime (Minutes) Rating Votes  Revenue (Millions)       Metascore\n",
       "1    Guardians of the Galaxy Action,Adventure,Sci-Fi  A group of intergalactic criminals are forced t... James Gunn           Chris Pratt, Vin Diesel, Bradley Cooper, Zoe Sa... 2014 121               8.1    757074 333.13                          76\n",
       "2    Prometheus              Adventure,Mystery,Sci-Fi Following clues to the origin of mankind, a tea... Ridley Scott         Noomi Rapace, Logan Marshall-Green, Michael Fas... 2012 124               7      485820 126.46                          65\n",
       "3    Split                   Horror,Thriller          Three girls are kidnapped by a man with a diagn... M. Night Shyamalan   James McAvoy, Anya Taylor-Joy, Haley Lu Richard... 2016 117               7.3    157606 138.12                          62\n",
       "4    Sing                    Animation,Comedy,Family  In a city of humanoid animals, a hustling theat... Christophe Lourdelet Matthew McConaughey,Reese Witherspoon, Seth Mac... 2016 108               7.2    60545  270.32                          59\n",
       "...                                                                                                                                                                                                                                                  ...\n",
       "996  Secret in Their Eyes    Crime,Drama,Mystery      A tight-knit team of rising investigators, alon... Billy Ray            Chiwetel Ejiofor, Nicole Kidman, Julia Roberts,... 2015 111               6.2    27585  NaN                             45\n",
       "997  Hostel: Part II         Horror                   Three American college students studying abroad... Eli Roth             Lauren German, Heather Matarazzo, Bijou Phillip... 2007 94                5.5    73152  17.54                           46\n",
       "998  Step Up 2: The Streets  Drama,Music,Romance      Romantic sparks occur between two dance student... Jon M. Chu           Robert Hoffman, Briana Evigan, Cassie Ventura, ... 2008 98                6.2    70699  58.01                           50\n",
       "999  Search Party            Adventure,Comedy         A pair of friends embark on a mission to reunit... Scot Armstrong       Adam Pally, T.J. Miller, Thomas Middleditch,Sha... 2014 93                5.6    4881   NaN                             22\n",
       "1000 Nine Lives              Comedy,Family,Fantasy    A stuffy businessman finds himself trapped insi... Barry Sonnenfeld     Kevin Spacey, Jennifer Garner, Robbie Amell,Che... 2016 87                5.3    12435  19.64                           11\n",
       "\n",
       "[1001 rows x 1 columns]>"
      ]
     },
     "execution_count": 38,
     "metadata": {},
     "output_type": "execute_result"
    }
   ],
   "source": [
    "data.describe\n",
    "#the describe func tells all the statistical data"
   ]
  },
  {
   "cell_type": "code",
   "execution_count": 39,
   "id": "2dad6848",
   "metadata": {},
   "outputs": [
    {
     "data": {
      "text/plain": [
       "IMDB-Movie-Data    64\n",
       "dtype: int64"
      ]
     },
     "execution_count": 39,
     "metadata": {},
     "output_type": "execute_result"
    }
   ],
   "source": [
    "# check null values\n",
    "data.isnull().sum()"
   ]
  },
  {
   "cell_type": "code",
   "execution_count": 41,
   "id": "30e9cb3e",
   "metadata": {},
   "outputs": [],
   "source": [
    "# Extract data as series\n",
    "#genre = data['Genre']\n",
    "#print(genre)\n",
    "#Key Error... wont print"
   ]
  },
  {
   "cell_type": "code",
   "execution_count": 45,
   "id": "4ee4cd3f",
   "metadata": {},
   "outputs": [],
   "source": [
    "# Extract data as dataframe\n",
    "#data[['Genre']]\n",
    "#print()\n",
    "#Key Error....wont print"
   ]
  },
  {
   "cell_type": "code",
   "execution_count": 47,
   "id": "60890c21",
   "metadata": {},
   "outputs": [],
   "source": [
    "#Extract multiple columns\n",
    "#some_cols = data[['Title','Genre','Actors','Director','Rating']]\n",
    "#some_cols.head()\n",
    "#KeyError... wont print"
   ]
  },
  {
   "cell_type": "code",
   "execution_count": 49,
   "id": "34a40172",
   "metadata": {},
   "outputs": [],
   "source": [
    "#Extract data by row index title\n",
    "#data_indexed.loc['Suicide Squad']\n",
    "#KeyError....wont print"
   ]
  },
  {
   "cell_type": "code",
   "execution_count": 50,
   "id": "2e8285fe",
   "metadata": {},
   "outputs": [],
   "source": [
    "#data_indexed.loc[['Suicide Squad']][['Genre','Actors','Director','Rating','Revenue (Millions)']]"
   ]
  },
  {
   "cell_type": "code",
   "execution_count": 51,
   "id": "700a8af9",
   "metadata": {},
   "outputs": [
    {
     "data": {
      "text/html": [
       "<div>\n",
       "<style scoped>\n",
       "    .dataframe tbody tr th:only-of-type {\n",
       "        vertical-align: middle;\n",
       "    }\n",
       "\n",
       "    .dataframe tbody tr th {\n",
       "        vertical-align: top;\n",
       "    }\n",
       "\n",
       "    .dataframe thead th {\n",
       "        text-align: right;\n",
       "    }\n",
       "</style>\n",
       "<table border=\"1\" class=\"dataframe\">\n",
       "  <thead>\n",
       "    <tr style=\"text-align: right;\">\n",
       "      <th></th>\n",
       "      <th></th>\n",
       "      <th></th>\n",
       "      <th></th>\n",
       "      <th></th>\n",
       "      <th></th>\n",
       "      <th></th>\n",
       "      <th></th>\n",
       "      <th></th>\n",
       "      <th></th>\n",
       "      <th></th>\n",
       "      <th>IMDB-Movie-Data</th>\n",
       "    </tr>\n",
       "  </thead>\n",
       "  <tbody>\n",
       "    <tr>\n",
       "      <th>10</th>\n",
       "      <th>Passengers</th>\n",
       "      <th>Adventure,Drama,Romance</th>\n",
       "      <th>A spacecraft traveling to a distant colony planet and transporting thousands of people has a malfunction in its sleep chambers. As a result, two passengers are awakened 90 years early.</th>\n",
       "      <th>Morten Tyldum</th>\n",
       "      <th>Jennifer Lawrence, Chris Pratt, Michael Sheen,Laurence Fishburne</th>\n",
       "      <th>2016</th>\n",
       "      <th>116</th>\n",
       "      <th>7</th>\n",
       "      <th>192177</th>\n",
       "      <th>100.01</th>\n",
       "      <td>41</td>\n",
       "    </tr>\n",
       "    <tr>\n",
       "      <th>11</th>\n",
       "      <th>Fantastic Beasts and Where to Find Them</th>\n",
       "      <th>Adventure,Family,Fantasy</th>\n",
       "      <th>The adventures of writer Newt Scamander in New York's secret community of witches and wizards seventy years before Harry Potter reads his book in school.</th>\n",
       "      <th>David Yates</th>\n",
       "      <th>Eddie Redmayne, Katherine Waterston, Alison Sudol,Dan Fogler</th>\n",
       "      <th>2016</th>\n",
       "      <th>133</th>\n",
       "      <th>7.5</th>\n",
       "      <th>232072</th>\n",
       "      <th>234.02</th>\n",
       "      <td>66</td>\n",
       "    </tr>\n",
       "    <tr>\n",
       "      <th>12</th>\n",
       "      <th>Hidden Figures</th>\n",
       "      <th>Biography,Drama,History</th>\n",
       "      <th>The story of a team of female African-American mathematicians who served a vital role in NASA during the early years of the U.S. space program.</th>\n",
       "      <th>Theodore Melfi</th>\n",
       "      <th>Taraji P. Henson, Octavia Spencer, Janelle Monáe,Kevin Costner</th>\n",
       "      <th>2016</th>\n",
       "      <th>127</th>\n",
       "      <th>7.8</th>\n",
       "      <th>93103</th>\n",
       "      <th>169.27</th>\n",
       "      <td>74</td>\n",
       "    </tr>\n",
       "    <tr>\n",
       "      <th>13</th>\n",
       "      <th>Rogue One</th>\n",
       "      <th>Action,Adventure,Sci-Fi</th>\n",
       "      <th>The Rebel Alliance makes a risky move to steal the plans for the Death Star, setting up the epic saga to follow.</th>\n",
       "      <th>Gareth Edwards</th>\n",
       "      <th>Felicity Jones, Diego Luna, Alan Tudyk, Donnie Yen</th>\n",
       "      <th>2016</th>\n",
       "      <th>133</th>\n",
       "      <th>7.9</th>\n",
       "      <th>323118</th>\n",
       "      <th>532.17</th>\n",
       "      <td>65</td>\n",
       "    </tr>\n",
       "    <tr>\n",
       "      <th>14</th>\n",
       "      <th>Moana</th>\n",
       "      <th>Animation,Adventure,Comedy</th>\n",
       "      <th>In Ancient Polynesia, when a terrible curse incurred by the Demigod Maui reaches an impetuous Chieftain's daughter's island, she answers the Ocean's call to seek out the Demigod to set things right.</th>\n",
       "      <th>Ron Clements</th>\n",
       "      <th>Auli'i Cravalho, Dwayne Johnson, Rachel House, Temuera Morrison</th>\n",
       "      <th>2016</th>\n",
       "      <th>107</th>\n",
       "      <th>7.7</th>\n",
       "      <th>118151</th>\n",
       "      <th>248.75</th>\n",
       "      <td>81</td>\n",
       "    </tr>\n",
       "  </tbody>\n",
       "</table>\n",
       "</div>"
      ],
      "text/plain": [
       "                                                                                                                                                                                                                      IMDB-Movie-Data\n",
       "10 Passengers                              Adventure,Drama,Romance    A spacecraft traveling to a distant colony plan... Morten Tyldum  Jennifer Lawrence, Chris Pratt, Michael Sheen,L... 2016 116 7   192177 100.01              41\n",
       "11 Fantastic Beasts and Where to Find Them Adventure,Family,Fantasy   The adventures of writer Newt Scamander in New ... David Yates    Eddie Redmayne, Katherine Waterston, Alison Sud... 2016 133 7.5 232072 234.02              66\n",
       "12 Hidden Figures                          Biography,Drama,History    The story of a team of female African-American ... Theodore Melfi Taraji P. Henson, Octavia Spencer, Janelle Moná... 2016 127 7.8 93103  169.27              74\n",
       "13 Rogue One                               Action,Adventure,Sci-Fi    The Rebel Alliance makes a risky move to steal ... Gareth Edwards Felicity Jones, Diego Luna, Alan Tudyk, Donnie Yen 2016 133 7.9 323118 532.17              65\n",
       "14 Moana                                   Animation,Adventure,Comedy In Ancient Polynesia, when a terrible curse inc... Ron Clements   Auli'i Cravalho, Dwayne Johnson, Rachel House, ... 2016 107 7.7 118151 248.75              81"
      ]
     },
     "execution_count": 51,
     "metadata": {},
     "output_type": "execute_result"
    }
   ],
   "source": [
    "#Extract data with row indices 10-49\n",
    "data.iloc[10:15]"
   ]
  },
  {
   "cell_type": "code",
   "execution_count": 53,
   "id": "728c7e33",
   "metadata": {},
   "outputs": [],
   "source": [
    "#data.iloc[10:15][['Title','Rating','Revenue (Millions)']]\n",
    "#KeyError....wont print"
   ]
  },
  {
   "cell_type": "code",
   "execution_count": 55,
   "id": "57fa1198",
   "metadata": {},
   "outputs": [],
   "source": [
    "#View Title, actor, director for moveis with min rating\n",
    "#rating_min = np.where(data['Rating'] == min(data['Rating']))\n",
    "#data.iloc[rating_min][['Title','Actors','Director','Year','Rating']]"
   ]
  },
  {
   "cell_type": "code",
   "execution_count": 57,
   "id": "4f09df30",
   "metadata": {},
   "outputs": [],
   "source": [
    "# Use the code block to select movies that have been release between 2010-2016, with a rating of less than 6.0, but\n",
    "#data[((data['Year'] >= 2010) & (data['Year'] <= 2016))\n",
    "      #& (data['Rating'] < 6.0)\n",
    "      #& (data['Revenue (Millions)'] > data['Revenue (Millions)'].quantile(0.95))]"
   ]
  },
  {
   "cell_type": "code",
   "execution_count": 59,
   "id": "ba253b5a",
   "metadata": {},
   "outputs": [],
   "source": [
    "# Get unique values in rating column\n",
    "#data['Director'].unique()\n",
    "#KeyError..."
   ]
  },
  {
   "cell_type": "code",
   "execution_count": 61,
   "id": "6d793b56",
   "metadata": {},
   "outputs": [],
   "source": [
    "#View number of movies by Director\n",
    "#data['Director'].value_counts()"
   ]
  },
  {
   "cell_type": "code",
   "execution_count": null,
   "id": "a72708c8",
   "metadata": {},
   "outputs": [],
   "source": []
  }
 ],
 "metadata": {
  "kernelspec": {
   "display_name": "Python 3 (ipykernel)",
   "language": "python",
   "name": "python3"
  },
  "language_info": {
   "codemirror_mode": {
    "name": "ipython",
    "version": 3
   },
   "file_extension": ".py",
   "mimetype": "text/x-python",
   "name": "python",
   "nbconvert_exporter": "python",
   "pygments_lexer": "ipython3",
   "version": "3.9.12"
  }
 },
 "nbformat": 4,
 "nbformat_minor": 5
}
